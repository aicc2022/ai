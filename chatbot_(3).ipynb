{
  "nbformat": 4,
  "nbformat_minor": 0,
  "metadata": {
    "colab": {
      "name": "chatbot (3).ipynb",
      "provenance": []
    },
    "kernelspec": {
      "name": "python3",
      "display_name": "Python 3"
    },
    "language_info": {
      "name": "python"
    }
  },
  "cells": [
    {
      "cell_type": "code",
      "source": [
        "!pip install chatterbot\n",
        "from chatterbot import ChatBot\n",
        "from chatterbot.trainers import ListTrainer\n",
        "\n",
        "bot = ChatBot('Bot')\n",
        "\n",
        "trainer = ListTrainer(bot)\n",
        "trainer.train([\n",
        "    \"Hi, can I help you\",\n",
        "    \"Who are you?\",\n",
        "    \"I am your virtual assistant. Ask me any questions...\",\n",
        "    \"Where do you operate?\",\n",
        "    \"We operate from Singapore\",\n",
        "    \"What payment methods do you accept?\",\n",
        "    \"We accept debit cards and major credit cards\",\n",
        "    \"I would like to speak to your customer service agent\",\n",
        "    \"please call +65 3333 3333. Our operating hours are from 9am to 5pm, Monday to Friday\"\n",
        "    \n",
        "])\n",
        "trainer.train([\n",
        "    \"What payment methods do you offer?\",\n",
        "    \"We accept debit cards and major credit cards\",\n",
        "    \"How to contact customer service agent\",\n",
        "    \"please call +65 3333 3333. Our operating hours are from 9am to 5pm, Monday to Friday\"\n",
        "    \n",
        "])\n",
        "\n",
        "while True:\n",
        "\trequest=input('you :')\n",
        "\tif request == 'OK' or request == 'ok':\n",
        "\t\tprint('Bot: bye')\n",
        "\t\tbreak\n",
        "\telse:\n",
        "\t\tresponse=bot.get_response(request)\n",
        "\n",
        "\t\tprint('Bot:', response)\n",
        "\n"
      ],
      "metadata": {
        "colab": {
          "base_uri": "https://localhost:8080/"
        },
        "id": "bn4HUFU_SG2O",
        "outputId": "bc0afd85-e830-4295-97c6-3f2b058be755"
      },
      "execution_count": null,
      "outputs": [
        {
          "output_type": "stream",
          "name": "stdout",
          "text": [
            "Looking in indexes: https://pypi.org/simple, https://us-python.pkg.dev/colab-wheels/public/simple/\n",
            "Collecting chatterbot\n",
            "  Downloading ChatterBot-1.0.8-py2.py3-none-any.whl (63 kB)\n",
            "\u001b[K     |████████████████████████████████| 63 kB 2.5 MB/s \n",
            "\u001b[?25hRequirement already satisfied: pytz in /usr/local/lib/python3.7/dist-packages (from chatterbot) (2022.1)\n",
            "Collecting sqlalchemy<1.4,>=1.3\n",
            "  Downloading SQLAlchemy-1.3.24-cp37-cp37m-manylinux2010_x86_64.whl (1.3 MB)\n",
            "\u001b[K     |████████████████████████████████| 1.3 MB 56.4 MB/s \n",
            "\u001b[?25hCollecting mathparse<0.2,>=0.1\n",
            "  Downloading mathparse-0.1.2-py3-none-any.whl (7.2 kB)\n",
            "Requirement already satisfied: python-dateutil<2.9,>=2.8 in /usr/local/lib/python3.7/dist-packages (from chatterbot) (2.8.2)\n",
            "Requirement already satisfied: six>=1.5 in /usr/local/lib/python3.7/dist-packages (from python-dateutil<2.9,>=2.8->chatterbot) (1.15.0)\n",
            "Installing collected packages: sqlalchemy, mathparse, chatterbot\n",
            "  Attempting uninstall: sqlalchemy\n",
            "    Found existing installation: SQLAlchemy 1.4.36\n",
            "    Uninstalling SQLAlchemy-1.4.36:\n",
            "      Successfully uninstalled SQLAlchemy-1.4.36\n",
            "Successfully installed chatterbot-1.0.8 mathparse-0.1.2 sqlalchemy-1.3.24\n",
            "List Trainer: [####################] 100%\n",
            "List Trainer: [####################] 100%\n",
            "you :hii\n",
            "Bot: Who are you?\n",
            "you :bye\n",
            "Bot: please call +65 3333 3333. Our operating hours are from 9am to 5pm, Monday to Friday\n"
          ]
        }
      ]
    },
    {
      "cell_type": "code",
      "source": [
        "Assignment No.:05\n",
        "\n",
        "Problem Statement:\n",
        "Develop an elementary chatbot for any suitable customer interaction application.\n",
        "Objectives:\n",
        "1.To study elementary chatbot for any suitable customer interaction application\n",
        "Theory:\n",
        "Artificial intelligence chatbots are text- or voice-based interfaces that provide support and\n",
        "connect human users with the services or information they need by simulating a traditional\n",
        "person-to-person conversation. Text-based chatbots are often deployed online on websites and\n",
        "social media platforms to provide customer support and outreach. Voice-based chatbots, on the\n",
        "other hand, are most typically used for call deflection and sorting or over-the-phone customer\n",
        "service. Most smartphones come equipped with a built-in chatbot, and smart speakers with\n",
        "chatbot functionality have been trendy gift-giving items for several years. The most typical\n",
        "chatbot interaction occurs on a business site. These customer service bots usually pop up after a\n",
        "human user navigates around a site for a few minutes or exhibits behaviors that show that they\n",
        "have become “lost” or are having trouble connecting with the information they need. Once the\n",
        "chatbot window presents itself, the user can enter their question in plain, syntactical English. The\n",
        "bot’s language recognition functions break down the question and, at the speed of light,\n",
        "compares the query to its data bank of previously asked questions to look for ways customers\n",
        "have achieved satisfying results in similar situations. When that search is complete, the chatbot\n",
        "shares the best and most relevant information with the user.\n",
        "Applications\n",
        "Chatbots are valuable for both businesses and consumers, as they reduce barriers to data access\n",
        "created by everything from physical disability to tech savviness, streamline navigation to connect users\n",
        "with results as quickly as possible, and provide a cost-effective alternative to staffing massive numbers of\n",
        "support professionals or contracting with expensive call centers. In fact, in many scenarios, artificial\n",
        "intelligence chatbot services can actually provide a faster, more straightforward experience than dealing\n",
        "with a human professional. If that sounds too good to be true, here are some examples of ways AI-based\n",
        "chatbots are deployed every day:\n",
        " Software Requirements: Google Colab"
      ],
      "metadata": {
        "id": "3CiLmtxsYptV"
      },
      "execution_count": null,
      "outputs": []
    },
    {
      "cell_type": "code",
      "source": [
        ""
      ],
      "metadata": {
        "id": "2Af_xMxvTUYW"
      },
      "execution_count": null,
      "outputs": []
    }
  ]
}